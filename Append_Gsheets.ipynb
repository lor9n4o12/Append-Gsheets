{
  "nbformat": 4,
  "nbformat_minor": 0,
  "metadata": {
    "colab": {
      "name": "Append Gsheets.ipynb",
      "provenance": [],
      "collapsed_sections": [],
      "include_colab_link": true
    },
    "kernelspec": {
      "name": "python3",
      "display_name": "Python 3"
    }
  },
  "cells": [
    {
      "cell_type": "markdown",
      "metadata": {
        "id": "view-in-github",
        "colab_type": "text"
      },
      "source": [
        "<a href=\"https://colab.research.google.com/github/lor9n4o12/Append-Gsheets/blob/master/Append_Gsheets.ipynb\" target=\"_parent\"><img src=\"https://colab.research.google.com/assets/colab-badge.svg\" alt=\"Open In Colab\"/></a>"
      ]
    },
    {
      "cell_type": "code",
      "metadata": {
        "id": "V5wpIcwSPlC1",
        "colab_type": "code",
        "colab": {}
      },
      "source": [
        "#Step 1 - Authenticate Google Account to be able to make changes in your gsheets\n",
        "from google.colab import auth\n",
        "auth.authenticate_user()\n",
        "import gspread\n",
        "import pandas as pd\n",
        "from oauth2client.client import GoogleCredentials\n",
        "gc = gspread.authorize(GoogleCredentials.get_application_default())"
      ],
      "execution_count": null,
      "outputs": []
    },
    {
      "cell_type": "code",
      "metadata": {
        "id": "mTn56aa2QhUe",
        "colab_type": "code",
        "colab": {}
      },
      "source": [
        "#Step 2 - Read the files from the Gsheet URLs and take the data into a pandas dataframe\n",
        "wb1 = gc.open_by_url('insert the link of your first workbook here')\n",
        "wb2 = gc.open_by_url('insert the link of your second workbook here')\n",
        "sheet1 = wb1.worksheet('insert the sheet name of the first sheet here')\n",
        "sheet2 = wb2.worksheet('insert the sheet name of the second sheet here')\n",
        "data1 = sheet1.get_all_values()\n",
        "data2 = sheet2.get_all_values()\n",
        "df1 = pd.DataFrame(data1)\n",
        "df2 = pd.DataFrame(data2)"
      ],
      "execution_count": null,
      "outputs": []
    },
    {
      "cell_type": "code",
      "metadata": {
        "id": "dzKYsv33UIPw",
        "colab_type": "code",
        "colab": {}
      },
      "source": [
        "#Step 3 - Set the columns and specify the data set in the dataframe\n",
        "df1.columns = df1.iloc[0]\n",
        "df2.columns = df2.iloc[0]\n",
        "df1 = df1.iloc[1:]\n",
        "df2 = df2.iloc[1:]"
      ],
      "execution_count": null,
      "outputs": []
    },
    {
      "cell_type": "code",
      "metadata": {
        "id": "ffVmGh7I6zzZ",
        "colab_type": "code",
        "colab": {}
      },
      "source": [
        "#Step 4 - Choose the same column names from the different dataframes to append later\n",
        "df1 = df1[['Sales', 'Brand']]\n",
        "df2 = df2[['Sales', 'Brand']]"
      ],
      "execution_count": null,
      "outputs": []
    },
    {
      "cell_type": "code",
      "metadata": {
        "id": "OAy2gKMSRUBs",
        "colab_type": "code",
        "colab": {}
      },
      "source": [
        "#Step 5 - Append the dataframes\n",
        "df = df1.append(df2)"
      ],
      "execution_count": null,
      "outputs": []
    },
    {
      "cell_type": "code",
      "metadata": {
        "id": "51x3zGmT_-o2",
        "colab_type": "code",
        "colab": {
          "base_uri": "https://localhost:8080/",
          "height": 162
        },
        "outputId": "1ce77898-3366-4ae3-c1b3-fcd2dbc5aa79"
      },
      "source": [
        "#Step 6 - Make sure that your data sets are appended as you wish to see them in the gsheets later\n",
        "df"
      ],
      "execution_count": null,
      "outputs": [
        {
          "output_type": "execute_result",
          "data": {
            "text/html": [
              "<div>\n",
              "<style scoped>\n",
              "    .dataframe tbody tr th:only-of-type {\n",
              "        vertical-align: middle;\n",
              "    }\n",
              "\n",
              "    .dataframe tbody tr th {\n",
              "        vertical-align: top;\n",
              "    }\n",
              "\n",
              "    .dataframe thead th {\n",
              "        text-align: right;\n",
              "    }\n",
              "</style>\n",
              "<table border=\"1\" class=\"dataframe\">\n",
              "  <thead>\n",
              "    <tr style=\"text-align: right;\">\n",
              "      <th></th>\n",
              "      <th>Sales</th>\n",
              "      <th>Brand</th>\n",
              "    </tr>\n",
              "  </thead>\n",
              "  <tbody>\n",
              "    <tr>\n",
              "      <th>1</th>\n",
              "      <td>3</td>\n",
              "      <td>q</td>\n",
              "    </tr>\n",
              "    <tr>\n",
              "      <th>2</th>\n",
              "      <td>4</td>\n",
              "      <td>r</td>\n",
              "    </tr>\n",
              "    <tr>\n",
              "      <th>1</th>\n",
              "      <td>4</td>\n",
              "      <td>b</td>\n",
              "    </tr>\n",
              "    <tr>\n",
              "      <th>2</th>\n",
              "      <td>5</td>\n",
              "      <td>a</td>\n",
              "    </tr>\n",
              "  </tbody>\n",
              "</table>\n",
              "</div>"
            ],
            "text/plain": [
              "0 Sales Brand\n",
              "1     3     q\n",
              "2     4     r\n",
              "1     4     b\n",
              "2     5     a"
            ]
          },
          "metadata": {
            "tags": []
          },
          "execution_count": 24
        }
      ]
    },
    {
      "cell_type": "code",
      "metadata": {
        "id": "8bSF_7ibYuYl",
        "colab_type": "code",
        "colab": {}
      },
      "source": [
        "#Step 7 - Open the gsheet file you want to write your new data in and then insert the data with the set function\n",
        "from gspread_dataframe import get_as_dataframe, set_with_dataframe\n",
        "#from gspread_formatting.dataframe import format_with_dataframe\n",
        "wb3 = gc.open_by_url('insert the link of your workbook, in which you will write the data here')\n",
        "sheet3 = wb3.worksheet('insert the sheet name of the sheet, in which you will write the data here')\n",
        "set_with_dataframe(sheet3, df)\n",
        "#format_with_dataframe(sheet3, df, include_column_header=True)"
      ],
      "execution_count": null,
      "outputs": []
    }
  ]
}
